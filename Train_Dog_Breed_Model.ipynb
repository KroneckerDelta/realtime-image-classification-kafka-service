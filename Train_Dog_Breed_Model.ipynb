{
 "cells": [
  {
   "cell_type": "code",
   "execution_count": 1,
   "metadata": {},
   "outputs": [
    {
     "name": "stderr",
     "output_type": "stream",
     "text": [
      "Using TensorFlow backend.\n"
     ]
    }
   ],
   "source": [
    "from keras.layers.pooling import GlobalAveragePooling2D\n",
    "from keras.layers.merge import Concatenate\n",
    "from keras.layers import Input, Dense\n",
    "from keras.layers.core import Dropout, Activation\n",
    "from keras.callbacks import ModelCheckpoint\n",
    "from keras.layers.normalization import BatchNormalization\n",
    "from keras.models import Model\n",
    "from keras.preprocessing import image                  \n",
    "from tqdm import tqdm   \n",
    "from keras.utils import np_utils\n",
    "import numpy as np\n",
    "from glob import glob\n",
    "import os.path\n",
    "import pandas as pd\n",
    "from sklearn.preprocessing import LabelEncoder, OneHotEncoder\n",
    "from keras.applications.inception_v3 import InceptionV3, preprocess_input\n",
    "import pickle"
   ]
  },
  {
   "cell_type": "code",
   "execution_count": 2,
   "metadata": {},
   "outputs": [],
   "source": [
    "# Download file if not already in directory\n",
    "# Go to https://www.kaggle.com/c/dog-breed-identification/data download and unpack train.zip and labels.csv.zip"
   ]
  },
  {
   "cell_type": "code",
   "execution_count": 3,
   "metadata": {},
   "outputs": [],
   "source": [
    "try:\n",
    "    assert os.path.isfile('labels.csv') and os.path.isdir('train')\n",
    "except:\n",
    "    print(\"Go to https://www.kaggle.com/c/dog-breed-identification/data download and unpack train.zip and labels.csv.zip\")\n",
    "    raise"
   ]
  },
  {
   "cell_type": "code",
   "execution_count": 4,
   "metadata": {},
   "outputs": [
    {
     "name": "stdout",
     "output_type": "stream",
     "text": [
      "Dog files: 10222\n"
     ]
    }
   ],
   "source": [
    "file_paths = glob(\"train/*\")\n",
    "print('Dog files:', len(file_paths))\n",
    "\n",
    "labels = pd.read_csv('labels.csv')\n",
    "dog_labels_mapping = dict(zip(labels.id.values, labels.breed.values))\n",
    "dog_label_encoder = LabelEncoder().fit(labels.breed.unique())\n",
    "dog_labels = [dog_labels_mapping[path.replace('train/', '').replace('.jpg','')] for path in file_paths]\n",
    "encoded_dog_labels = dog_label_encoder.transform(dog_labels)\n",
    "dog_label_onehot_encoder = OneHotEncoder(sparse=False).fit(encoded_dog_labels.reshape(-1, 1))\n",
    "onehot_encoded_dog_labels = dog_label_onehot_encoder.transform(encoded_dog_labels.reshape(-1, 1))"
   ]
  },
  {
   "cell_type": "code",
   "execution_count": 5,
   "metadata": {},
   "outputs": [],
   "source": [
    "def path_to_tensor(img_path):\n",
    "    # loads RGB image as PIL.Image.Image type\n",
    "    img = image.load_img(img_path, target_size=(299, 299))\n",
    "    # convert PIL.Image.Image type to 3D tensor with shape (299, 299, 3)\n",
    "    x = image.img_to_array(img)\n",
    "    # convert 3D tensor to 4D tensor with shape (1, 299, 299, 3) and return 4D tensor\n",
    "    return np.expand_dims(x, axis=0)\n",
    "\n",
    "def paths_to_tensor(img_paths):\n",
    "    list_of_tensors = [path_to_tensor(img_path) for img_path in tqdm(img_paths)]\n",
    "    return np.vstack(list_of_tensors)"
   ]
  },
  {
   "cell_type": "code",
   "execution_count": 6,
   "metadata": {},
   "outputs": [
    {
     "name": "stderr",
     "output_type": "stream",
     "text": [
      "100%|██████████| 10222/10222 [00:57<00:00, 178.85it/s]\n"
     ]
    },
    {
     "name": "stdout",
     "output_type": "stream",
     "text": [
      "InceptionV3 shape (8, 8, 2048)\n"
     ]
    }
   ],
   "source": [
    "tensors = paths_to_tensor(file_paths).astype('float32')\n",
    "preprocessed_input = preprocess_input(tensors)\n",
    "preprocessed_tensors = InceptionV3(weights='imagenet', include_top=False).predict(preprocessed_input, batch_size=32)\n",
    "print(\"InceptionV3 shape\", preprocessed_tensors.shape[1:])"
   ]
  },
  {
   "cell_type": "code",
   "execution_count": 9,
   "metadata": {},
   "outputs": [
    {
     "name": "stdout",
     "output_type": "stream",
     "text": [
      "_________________________________________________________________\n",
      "Layer (type)                 Output Shape              Param #   \n",
      "=================================================================\n",
      "input_3 (InputLayer)         (None, 8, 8, 2048)        0         \n",
      "_________________________________________________________________\n",
      "global_average_pooling2d_2 ( (None, 2048)              0         \n",
      "_________________________________________________________________\n",
      "dense_4 (Dense)              (None, 512)               1048576   \n",
      "_________________________________________________________________\n",
      "batch_normalization_97 (Batc (None, 512)               2048      \n",
      "_________________________________________________________________\n",
      "activation_97 (Activation)   (None, 512)               0         \n",
      "_________________________________________________________________\n",
      "dropout_3 (Dropout)          (None, 512)               0         \n",
      "_________________________________________________________________\n",
      "dense_5 (Dense)              (None, 512)               262144    \n",
      "_________________________________________________________________\n",
      "batch_normalization_98 (Batc (None, 512)               2048      \n",
      "_________________________________________________________________\n",
      "activation_98 (Activation)   (None, 512)               0         \n",
      "_________________________________________________________________\n",
      "dropout_4 (Dropout)          (None, 512)               0         \n",
      "_________________________________________________________________\n",
      "dense_6 (Dense)              (None, 120)               61560     \n",
      "=================================================================\n",
      "Total params: 1,376,376\n",
      "Trainable params: 1,374,328\n",
      "Non-trainable params: 2,048\n",
      "_________________________________________________________________\n"
     ]
    }
   ],
   "source": [
    "def input_branch(input_shape=None):\n",
    "    \n",
    "    size = int(input_shape[2] / 4)\n",
    "    \n",
    "    branch_input = Input(shape=input_shape)\n",
    "    branch = GlobalAveragePooling2D()(branch_input)\n",
    "    branch = Dense(size, use_bias=False, kernel_initializer='uniform')(branch)\n",
    "    branch = BatchNormalization()(branch)\n",
    "    branch = Activation(\"relu\")(branch)\n",
    "    return branch, branch_input\n",
    "\n",
    "inception_v3_branch, inception_v3_input = input_branch(input_shape=(8, 8, 2048))\n",
    "net = Dropout(0.3)(inception_v3_branch)\n",
    "net = Dense(512, use_bias=False, kernel_initializer='uniform')(net)\n",
    "net = BatchNormalization()(net)\n",
    "net = Activation(\"relu\")(net)\n",
    "net = Dropout(0.3)(net)\n",
    "net = Dense(120, kernel_initializer='uniform', activation=\"softmax\")(net)\n",
    "\n",
    "dog_breed_model = Model(inputs=[inception_v3_input], outputs=[net])\n",
    "dog_breed_model.summary()"
   ]
  },
  {
   "cell_type": "code",
   "execution_count": 10,
   "metadata": {},
   "outputs": [
    {
     "name": "stdout",
     "output_type": "stream",
     "text": [
      "Epoch 1/10\n",
      "10222/10222 [==============================] - 96s - loss: 1.3220 - acc: 0.6595    - ETA: 2s - l\n",
      "Epoch 2/10\n",
      "10222/10222 [==============================] - 43s - loss: 0.7926 - acc: 0.7799    \n",
      "Epoch 3/10\n",
      "10222/10222 [==============================] - 41s - loss: 0.7612 - acc: 0.8030    \n",
      "Epoch 4/10\n",
      "10222/10222 [==============================] - 41s - loss: 0.7107 - acc: 0.8215    \n",
      "Epoch 5/10\n",
      "10222/10222 [==============================] - 41s - loss: 0.7189 - acc: 0.8235    \n",
      "Epoch 6/10\n",
      "10222/10222 [==============================] - 41s - loss: 0.6537 - acc: 0.8323    \n",
      "Epoch 7/10\n",
      "10222/10222 [==============================] - 42s - loss: 0.6639 - acc: 0.8393    \n",
      "Epoch 8/10\n",
      "10222/10222 [==============================] - 42s - loss: 0.6456 - acc: 0.8437    \n",
      "Epoch 9/10\n",
      "10222/10222 [==============================] - 43s - loss: 0.5978 - acc: 0.8507    \n",
      "Epoch 10/10\n",
      "10222/10222 [==============================] - 43s - loss: 0.6158 - acc: 0.8499    \n"
     ]
    }
   ],
   "source": [
    "dog_breed_model.compile(loss='categorical_crossentropy', optimizer=\"rmsprop\", metrics=['accuracy'])\n",
    "dog_breed_model.fit([preprocessed_tensors], onehot_encoded_dog_labels,\n",
    "          epochs=10, batch_size=4, verbose=1)\n",
    "dog_breed_model.save_weights('dogbreed_model.hdf5')"
   ]
  },
  {
   "cell_type": "code",
   "execution_count": 11,
   "metadata": {},
   "outputs": [],
   "source": [
    "# Save the label encoder\n",
    "with open('dog_label_encoder.pickle', 'wb') as handle:\n",
    "    pickle.dump(dog_label_encoder, handle, protocol=pickle.HIGHEST_PROTOCOL)"
   ]
  },
  {
   "cell_type": "code",
   "execution_count": null,
   "metadata": {},
   "outputs": [],
   "source": []
  }
 ],
 "metadata": {
  "kernelspec": {
   "display_name": "Python 3",
   "language": "python",
   "name": "python3"
  },
  "language_info": {
   "codemirror_mode": {
    "name": "ipython",
    "version": 3
   },
   "file_extension": ".py",
   "mimetype": "text/x-python",
   "name": "python",
   "nbconvert_exporter": "python",
   "pygments_lexer": "ipython3",
   "version": "3.5.4"
  }
 },
 "nbformat": 4,
 "nbformat_minor": 2
}
